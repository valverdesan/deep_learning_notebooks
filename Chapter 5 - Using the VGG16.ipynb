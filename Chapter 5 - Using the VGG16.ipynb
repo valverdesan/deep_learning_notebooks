{
 "cells": [
  {
   "cell_type": "code",
   "execution_count": 1,
   "metadata": {},
   "outputs": [
    {
     "name": "stderr",
     "output_type": "stream",
     "text": [
      "Using TensorFlow backend.\n"
     ]
    },
    {
     "data": {
      "text/plain": [
       "'2.2.2'"
      ]
     },
     "execution_count": 1,
     "metadata": {},
     "output_type": "execute_result"
    }
   ],
   "source": [
    "import keras\n",
    "keras.__version__"
   ]
  },
  {
   "cell_type": "code",
   "execution_count": 2,
   "metadata": {},
   "outputs": [
    {
     "name": "stdout",
     "output_type": "stream",
     "text": [
      "_________________________________________________________________\n",
      "Layer (type)                 Output Shape              Param #   \n",
      "=================================================================\n",
      "vgg16 (Model)                (None, 4, 4, 512)         14714688  \n",
      "_________________________________________________________________\n",
      "flatten_1 (Flatten)          (None, 8192)              0         \n",
      "_________________________________________________________________\n",
      "dense_1 (Dense)              (None, 256)               2097408   \n",
      "_________________________________________________________________\n",
      "dense_2 (Dense)              (None, 1)                 257       \n",
      "=================================================================\n",
      "Total params: 16,812,353\n",
      "Trainable params: 16,812,353\n",
      "Non-trainable params: 0\n",
      "_________________________________________________________________\n"
     ]
    }
   ],
   "source": [
    "from keras.applications import VGG16\n",
    "\n",
    "conv_base = VGG16(weights='imagenet',\n",
    "                  include_top=False,\n",
    "                  input_shape=(150, 150, 3))\n",
    "\n",
    "\n",
    "from keras import models\n",
    "from keras import layers\n",
    "\n",
    "model = models.Sequential()\n",
    "model.add(conv_base)\n",
    "model.add(layers.Flatten())\n",
    "model.add(layers.Dense(256, activation='relu'))\n",
    "model.add(layers.Dense(1, activation='sigmoid'))\n",
    "\n",
    "model.summary()"
   ]
  },
  {
   "cell_type": "code",
   "execution_count": 3,
   "metadata": {
    "scrolled": true
   },
   "outputs": [
    {
     "name": "stdout",
     "output_type": "stream",
     "text": [
      "_________________________________________________________________\n",
      "Layer (type)                 Output Shape              Param #   \n",
      "=================================================================\n",
      "input_1 (InputLayer)         (None, 150, 150, 3)       0         \n",
      "_________________________________________________________________\n",
      "block1_conv1 (Conv2D)        (None, 150, 150, 64)      1792      \n",
      "_________________________________________________________________\n",
      "block1_conv2 (Conv2D)        (None, 150, 150, 64)      36928     \n",
      "_________________________________________________________________\n",
      "block1_pool (MaxPooling2D)   (None, 75, 75, 64)        0         \n",
      "_________________________________________________________________\n",
      "block2_conv1 (Conv2D)        (None, 75, 75, 128)       73856     \n",
      "_________________________________________________________________\n",
      "block2_conv2 (Conv2D)        (None, 75, 75, 128)       147584    \n",
      "_________________________________________________________________\n",
      "block2_pool (MaxPooling2D)   (None, 37, 37, 128)       0         \n",
      "_________________________________________________________________\n",
      "block3_conv1 (Conv2D)        (None, 37, 37, 256)       295168    \n",
      "_________________________________________________________________\n",
      "block3_conv2 (Conv2D)        (None, 37, 37, 256)       590080    \n",
      "_________________________________________________________________\n",
      "block3_conv3 (Conv2D)        (None, 37, 37, 256)       590080    \n",
      "_________________________________________________________________\n",
      "block3_pool (MaxPooling2D)   (None, 18, 18, 256)       0         \n",
      "_________________________________________________________________\n",
      "block4_conv1 (Conv2D)        (None, 18, 18, 512)       1180160   \n",
      "_________________________________________________________________\n",
      "block4_conv2 (Conv2D)        (None, 18, 18, 512)       2359808   \n",
      "_________________________________________________________________\n",
      "block4_conv3 (Conv2D)        (None, 18, 18, 512)       2359808   \n",
      "_________________________________________________________________\n",
      "block4_pool (MaxPooling2D)   (None, 9, 9, 512)         0         \n",
      "_________________________________________________________________\n",
      "block5_conv1 (Conv2D)        (None, 9, 9, 512)         2359808   \n",
      "_________________________________________________________________\n",
      "block5_conv2 (Conv2D)        (None, 9, 9, 512)         2359808   \n",
      "_________________________________________________________________\n",
      "block5_conv3 (Conv2D)        (None, 9, 9, 512)         2359808   \n",
      "_________________________________________________________________\n",
      "block5_pool (MaxPooling2D)   (None, 4, 4, 512)         0         \n",
      "=================================================================\n",
      "Total params: 14,714,688\n",
      "Trainable params: 14,714,688\n",
      "Non-trainable params: 0\n",
      "_________________________________________________________________\n"
     ]
    }
   ],
   "source": [
    "conv_base.summary()"
   ]
  },
  {
   "cell_type": "code",
   "execution_count": 1,
   "metadata": {},
   "outputs": [
    {
     "ename": "NameError",
     "evalue": "name 'model' is not defined",
     "output_type": "error",
     "traceback": [
      "\u001b[0;31m---------------------------------------------------------------------------\u001b[0m",
      "\u001b[0;31mNameError\u001b[0m                                 Traceback (most recent call last)",
      "\u001b[0;32m<ipython-input-1-1de3aa35b44b>\u001b[0m in \u001b[0;36m<module>\u001b[0;34m\u001b[0m\n\u001b[1;32m      1\u001b[0m print('This is the number of trainable weights '\n\u001b[0;32m----> 2\u001b[0;31m       'before freezing the conv base:', len(model.trainable_weights))\n\u001b[0m",
      "\u001b[0;31mNameError\u001b[0m: name 'model' is not defined"
     ]
    }
   ],
   "source": [
    "print('This is the number of trainable weights '\n",
    "      'before freezing the conv base:', len(model.trainable_weights))"
   ]
  },
  {
   "cell_type": "code",
   "execution_count": 5,
   "metadata": {},
   "outputs": [
    {
     "name": "stdout",
     "output_type": "stream",
     "text": [
      "Found 2000 images belonging to 2 classes.\n",
      "Found 1000 images belonging to 2 classes.\n",
      "Found 1000 images belonging to 2 classes.\n"
     ]
    }
   ],
   "source": [
    "import os\n",
    "import numpy as np\n",
    "from keras.preprocessing.image import ImageDataGenerator\n",
    "\n",
    "base_dir = '/home/landos/data/cats_and_dogs_small'\n",
    "\n",
    "train_dir = os.path.join(base_dir, 'train')\n",
    "validation_dir = os.path.join(base_dir, 'validation')\n",
    "test_dir = os.path.join(base_dir, 'test')\n",
    "\n",
    "datagen = ImageDataGenerator(rescale=1./255)\n",
    "batch_size = 20\n",
    "\n",
    "def extract_features(directory, sample_count):\n",
    "    features = np.zeros(shape=(sample_count, 4, 4, 512))\n",
    "    labels = np.zeros(shape=(sample_count))\n",
    "    generator = datagen.flow_from_directory(\n",
    "        directory,\n",
    "        target_size=(150, 150),\n",
    "        batch_size=batch_size,\n",
    "        class_mode='binary')\n",
    "    i = 0\n",
    "    for inputs_batch, labels_batch in generator:\n",
    "        features_batch = conv_base.predict(inputs_batch)\n",
    "        features[i * batch_size : (i + 1) * batch_size] = features_batch\n",
    "        labels[i * batch_size : (i + 1) * batch_size] = labels_batch\n",
    "        i += 1\n",
    "        if i * batch_size >= sample_count:\n",
    "            # Note that since generators yield data indefinitely in a loop,\n",
    "            # we must `break` after every image has been seen once.\n",
    "            break\n",
    "    return features, labels\n",
    "\n",
    "train_features, train_labels = extract_features(train_dir, 2000)\n",
    "validation_features, validation_labels = extract_features(validation_dir, 1000)\n",
    "test_features, test_labels = extract_features(test_dir, 1000)"
   ]
  },
  {
   "cell_type": "code",
   "execution_count": 6,
   "metadata": {},
   "outputs": [],
   "source": [
    "train_features = np.reshape(train_features, (2000, 4 * 4 * 512))\n",
    "validation_features = np.reshape(validation_features, (1000, 4 * 4 * 512))\n",
    "test_features = np.reshape(test_features, (1000, 4 * 4 * 512))"
   ]
  },
  {
   "cell_type": "code",
   "execution_count": 7,
   "metadata": {},
   "outputs": [
    {
     "name": "stdout",
     "output_type": "stream",
     "text": [
      "Train on 2000 samples, validate on 1000 samples\n",
      "Epoch 1/30\n",
      "2000/2000 [==============================] - 1s 543us/step - loss: 0.6123 - acc: 0.6610 - val_loss: 0.4415 - val_acc: 0.8290\n",
      "Epoch 2/30\n",
      "2000/2000 [==============================] - 1s 335us/step - loss: 0.4305 - acc: 0.8080 - val_loss: 0.3575 - val_acc: 0.8670\n",
      "Epoch 3/30\n",
      "2000/2000 [==============================] - 1s 340us/step - loss: 0.3680 - acc: 0.8445 - val_loss: 0.3195 - val_acc: 0.8780\n",
      "Epoch 4/30\n",
      "2000/2000 [==============================] - 1s 342us/step - loss: 0.3103 - acc: 0.8760 - val_loss: 0.2970 - val_acc: 0.8790\n",
      "Epoch 5/30\n",
      "2000/2000 [==============================] - 1s 346us/step - loss: 0.2907 - acc: 0.8860 - val_loss: 0.2900 - val_acc: 0.8730\n",
      "Epoch 6/30\n",
      "2000/2000 [==============================] - 1s 342us/step - loss: 0.2577 - acc: 0.9050 - val_loss: 0.2966 - val_acc: 0.8590\n",
      "Epoch 7/30\n",
      "2000/2000 [==============================] - 1s 348us/step - loss: 0.2491 - acc: 0.9100 - val_loss: 0.2584 - val_acc: 0.9030\n",
      "Epoch 8/30\n",
      "2000/2000 [==============================] - 1s 345us/step - loss: 0.2288 - acc: 0.9085 - val_loss: 0.2516 - val_acc: 0.9040\n",
      "Epoch 9/30\n",
      "2000/2000 [==============================] - 1s 344us/step - loss: 0.2205 - acc: 0.9160 - val_loss: 0.2472 - val_acc: 0.9030\n",
      "Epoch 10/30\n",
      "2000/2000 [==============================] - 1s 345us/step - loss: 0.2080 - acc: 0.9220 - val_loss: 0.2422 - val_acc: 0.9050\n",
      "Epoch 11/30\n",
      "2000/2000 [==============================] - 1s 345us/step - loss: 0.2061 - acc: 0.9225 - val_loss: 0.2397 - val_acc: 0.9070\n",
      "Epoch 12/30\n",
      "2000/2000 [==============================] - 1s 349us/step - loss: 0.1863 - acc: 0.9325 - val_loss: 0.2375 - val_acc: 0.9050\n",
      "Epoch 13/30\n",
      "2000/2000 [==============================] - 1s 353us/step - loss: 0.1826 - acc: 0.9345 - val_loss: 0.2423 - val_acc: 0.8940\n",
      "Epoch 14/30\n",
      "2000/2000 [==============================] - 1s 344us/step - loss: 0.1761 - acc: 0.9415 - val_loss: 0.2406 - val_acc: 0.8970\n",
      "Epoch 15/30\n",
      "2000/2000 [==============================] - 1s 343us/step - loss: 0.1585 - acc: 0.9470 - val_loss: 0.2295 - val_acc: 0.9080\n",
      "Epoch 16/30\n",
      "2000/2000 [==============================] - 1s 346us/step - loss: 0.1562 - acc: 0.9425 - val_loss: 0.2285 - val_acc: 0.9050\n",
      "Epoch 17/30\n",
      "2000/2000 [==============================] - 1s 344us/step - loss: 0.1441 - acc: 0.9525 - val_loss: 0.2256 - val_acc: 0.9070\n",
      "Epoch 18/30\n",
      "2000/2000 [==============================] - 1s 343us/step - loss: 0.1399 - acc: 0.9520 - val_loss: 0.2255 - val_acc: 0.9050\n",
      "Epoch 19/30\n",
      "2000/2000 [==============================] - 1s 341us/step - loss: 0.1433 - acc: 0.9495 - val_loss: 0.2317 - val_acc: 0.9030\n",
      "Epoch 20/30\n",
      "2000/2000 [==============================] - 1s 342us/step - loss: 0.1298 - acc: 0.9600 - val_loss: 0.2245 - val_acc: 0.9060\n",
      "Epoch 21/30\n",
      "2000/2000 [==============================] - 1s 348us/step - loss: 0.1243 - acc: 0.9560 - val_loss: 0.2237 - val_acc: 0.9060\n",
      "Epoch 22/30\n",
      "2000/2000 [==============================] - 1s 350us/step - loss: 0.1194 - acc: 0.9620 - val_loss: 0.2232 - val_acc: 0.9090\n",
      "Epoch 23/30\n",
      "2000/2000 [==============================] - 1s 349us/step - loss: 0.1158 - acc: 0.9640 - val_loss: 0.2245 - val_acc: 0.9110\n",
      "Epoch 24/30\n",
      "2000/2000 [==============================] - 1s 347us/step - loss: 0.1162 - acc: 0.9640 - val_loss: 0.2260 - val_acc: 0.9060\n",
      "Epoch 25/30\n",
      "2000/2000 [==============================] - 1s 344us/step - loss: 0.1099 - acc: 0.9645 - val_loss: 0.2267 - val_acc: 0.9070\n",
      "Epoch 26/30\n",
      "2000/2000 [==============================] - 1s 348us/step - loss: 0.1058 - acc: 0.9645 - val_loss: 0.2230 - val_acc: 0.9100\n",
      "Epoch 27/30\n",
      "2000/2000 [==============================] - 1s 352us/step - loss: 0.0952 - acc: 0.9740 - val_loss: 0.2236 - val_acc: 0.9090\n",
      "Epoch 28/30\n",
      "2000/2000 [==============================] - 1s 350us/step - loss: 0.0967 - acc: 0.9695 - val_loss: 0.2255 - val_acc: 0.9070\n",
      "Epoch 29/30\n",
      "2000/2000 [==============================] - 1s 331us/step - loss: 0.0930 - acc: 0.9730 - val_loss: 0.2273 - val_acc: 0.9070\n",
      "Epoch 30/30\n",
      "2000/2000 [==============================] - 1s 336us/step - loss: 0.0908 - acc: 0.9735 - val_loss: 0.2364 - val_acc: 0.9000\n"
     ]
    }
   ],
   "source": [
    "from keras import models\n",
    "from keras import layers\n",
    "from keras import optimizers\n",
    "\n",
    "model = models.Sequential()\n",
    "model.add(layers.Dense(256, activation='relu', input_dim=4 * 4 * 512))\n",
    "model.add(layers.Dropout(0.5))\n",
    "model.add(layers.Dense(1, activation='sigmoid'))\n",
    "\n",
    "model.compile(optimizer=optimizers.RMSprop(lr=2e-5),\n",
    "              loss='binary_crossentropy',\n",
    "              metrics=['acc'])\n",
    "\n",
    "history = model.fit(train_features, train_labels,\n",
    "                    epochs=30,\n",
    "                    batch_size=20,\n",
    "                    validation_data=(validation_features, validation_labels))"
   ]
  },
  {
   "cell_type": "code",
   "execution_count": 9,
   "metadata": {},
   "outputs": [
    {
     "data": {
      "image/png": "[encoded data removed]",
      "text/plain": [
       "<Figure size 432x288 with 1 Axes>"
      ]
     },
     "metadata": {
      "needs_background": "light"
     },
     "output_type": "display_data"
    },
    {
     "data": {
      "image/png": "[encoded data removed]",
      "text/plain": [
       "<Figure size 432x288 with 1 Axes>"
      ]
     },
     "metadata": {
      "needs_background": "light"
     },
     "output_type": "display_data"
    }
   ],
   "source": [
    "import matplotlib.pyplot as plt\n",
    "\n",
    "acc = history.history['acc']\n",
    "val_acc = history.history['val_acc']\n",
    "loss = history.history['loss']\n",
    "val_loss = history.history['val_loss']\n",
    "\n",
    "epochs = range(len(acc))\n",
    "\n",
    "plt.plot(epochs, acc, 'bo', label='Training acc')\n",
    "plt.plot(epochs, val_acc, 'b', label='Validation acc')\n",
    "plt.title('Training and validation accuracy')\n",
    "plt.legend()\n",
    "\n",
    "plt.figure()\n",
    "\n",
    "plt.plot(epochs, loss, 'bo', label='Training loss')\n",
    "plt.plot(epochs, val_loss, 'b', label='Validation loss')\n",
    "plt.title('Training and validation loss')\n",
    "plt.legend()\n",
    "\n",
    "plt.show()"
   ]
  },
  {
   "cell_type": "code",
   "execution_count": 10,
   "metadata": {},
   "outputs": [],
   "source": [
    "from keras import models\n",
    "from keras import layers\n",
    "\n",
    "model = models.Sequential()\n",
    "model.add(conv_base)\n",
    "model.add(layers.Flatten())\n",
    "model.add(layers.Dense(256, activation='relu'))\n",
    "model.add(layers.Dense(1, activation='sigmoid'))"
   ]
  },
  {
   "cell_type": "code",
   "execution_count": 11,
   "metadata": {},
   "outputs": [
    {
     "name": "stdout",
     "output_type": "stream",
     "text": [
      "_________________________________________________________________\n",
      "Layer (type)                 Output Shape              Param #   \n",
      "=================================================================\n",
      "vgg16 (Model)                (None, 4, 4, 512)         14714688  \n",
      "_________________________________________________________________\n",
      "flatten_2 (Flatten)          (None, 8192)              0         \n",
      "_________________________________________________________________\n",
      "dense_5 (Dense)              (None, 256)               2097408   \n",
      "_________________________________________________________________\n",
      "dense_6 (Dense)              (None, 1)                 257       \n",
      "=================================================================\n",
      "Total params: 16,812,353\n",
      "Trainable params: 16,812,353\n",
      "Non-trainable params: 0\n",
      "_________________________________________________________________\n"
     ]
    }
   ],
   "source": [
    "model.summary()"
   ]
  },
  {
   "cell_type": "code",
   "execution_count": 12,
   "metadata": {},
   "outputs": [
    {
     "name": "stdout",
     "output_type": "stream",
     "text": [
      "This is the number of trainable weights after freezing the conv base: 30\n"
     ]
    }
   ],
   "source": [
    "print('This is the number of trainable weights '\n",
    "      'after freezing the conv base:', len(model.trainable_weights))"
   ]
  },
  {
   "cell_type": "code",
   "execution_count": 13,
   "metadata": {},
   "outputs": [
    {
     "name": "stdout",
     "output_type": "stream",
     "text": [
      "This is the number of trainable weights after freezing the conv base: 4\n"
     ]
    }
   ],
   "source": [
    "conv_base.trainable = False\n",
    "print('This is the number of trainable weights '\n",
    "      'after freezing the conv base:', len(model.trainable_weights))"
   ]
  },
  {
   "cell_type": "code",
   "execution_count": 14,
   "metadata": {},
   "outputs": [
    {
     "name": "stdout",
     "output_type": "stream",
     "text": [
      "Found 2000 images belonging to 2 classes.\n",
      "Found 1000 images belonging to 2 classes.\n",
      "Epoch 1/30\n",
      " - 13s - loss: 0.6039 - acc: 0.6660 - val_loss: 0.4621 - val_acc: 0.7970\n",
      "Epoch 2/30\n",
      " - 12s - loss: 0.4758 - acc: 0.7835 - val_loss: 0.3689 - val_acc: 0.8570\n",
      "Epoch 3/30\n",
      " - 13s - loss: 0.4330 - acc: 0.8080 - val_loss: 0.3308 - val_acc: 0.8670\n",
      "Epoch 4/30\n",
      " - 13s - loss: 0.4056 - acc: 0.8155 - val_loss: 0.3121 - val_acc: 0.8620\n",
      "Epoch 5/30\n",
      " - 13s - loss: 0.3818 - acc: 0.8365 - val_loss: 0.3037 - val_acc: 0.8720\n",
      "Epoch 6/30\n",
      " - 13s - loss: 0.3724 - acc: 0.8355 - val_loss: 0.2886 - val_acc: 0.8740\n",
      "Epoch 7/30\n",
      " - 13s - loss: 0.3601 - acc: 0.8425 - val_loss: 0.2700 - val_acc: 0.8870\n",
      "Epoch 8/30\n",
      " - 13s - loss: 0.3500 - acc: 0.8480 - val_loss: 0.2668 - val_acc: 0.8860\n",
      "Epoch 9/30\n",
      " - 13s - loss: 0.3433 - acc: 0.8445 - val_loss: 0.2611 - val_acc: 0.8900\n",
      "Epoch 10/30\n",
      " - 13s - loss: 0.3291 - acc: 0.8605 - val_loss: 0.2591 - val_acc: 0.8880\n",
      "Epoch 11/30\n",
      " - 13s - loss: 0.3255 - acc: 0.8570 - val_loss: 0.2529 - val_acc: 0.8910\n",
      "Epoch 12/30\n",
      " - 13s - loss: 0.3295 - acc: 0.8450 - val_loss: 0.2474 - val_acc: 0.8910\n",
      "Epoch 13/30\n",
      " - 12s - loss: 0.3306 - acc: 0.8580 - val_loss: 0.2477 - val_acc: 0.8990\n",
      "Epoch 14/30\n",
      " - 12s - loss: 0.3190 - acc: 0.8565 - val_loss: 0.2570 - val_acc: 0.8900\n",
      "Epoch 15/30\n",
      " - 13s - loss: 0.3194 - acc: 0.8635 - val_loss: 0.2434 - val_acc: 0.8970\n",
      "Epoch 16/30\n",
      " - 12s - loss: 0.3073 - acc: 0.8620 - val_loss: 0.2408 - val_acc: 0.8990\n",
      "Epoch 17/30\n",
      " - 13s - loss: 0.3154 - acc: 0.8650 - val_loss: 0.2412 - val_acc: 0.8990\n",
      "Epoch 18/30\n",
      " - 12s - loss: 0.3115 - acc: 0.8615 - val_loss: 0.2431 - val_acc: 0.8930\n",
      "Epoch 19/30\n",
      " - 13s - loss: 0.3041 - acc: 0.8750 - val_loss: 0.2477 - val_acc: 0.8950\n",
      "Epoch 20/30\n",
      " - 13s - loss: 0.3036 - acc: 0.8690 - val_loss: 0.2391 - val_acc: 0.9000\n",
      "Epoch 21/30\n",
      " - 13s - loss: 0.2841 - acc: 0.8795 - val_loss: 0.2592 - val_acc: 0.8850\n",
      "Epoch 22/30\n",
      " - 13s - loss: 0.3016 - acc: 0.8665 - val_loss: 0.2457 - val_acc: 0.8960\n",
      "Epoch 23/30\n",
      " - 13s - loss: 0.2952 - acc: 0.8655 - val_loss: 0.2396 - val_acc: 0.9010\n",
      "Epoch 24/30\n",
      " - 13s - loss: 0.2921 - acc: 0.8780 - val_loss: 0.2436 - val_acc: 0.8950\n",
      "Epoch 25/30\n",
      " - 13s - loss: 0.2911 - acc: 0.8765 - val_loss: 0.2418 - val_acc: 0.9010\n",
      "Epoch 26/30\n",
      " - 13s - loss: 0.2958 - acc: 0.8730 - val_loss: 0.2458 - val_acc: 0.8920\n",
      "Epoch 27/30\n",
      " - 13s - loss: 0.2852 - acc: 0.8780 - val_loss: 0.2383 - val_acc: 0.9010\n",
      "Epoch 28/30\n",
      " - 13s - loss: 0.2818 - acc: 0.8830 - val_loss: 0.2386 - val_acc: 0.9050\n",
      "Epoch 29/30\n",
      " - 13s - loss: 0.2820 - acc: 0.8815 - val_loss: 0.2417 - val_acc: 0.9010\n",
      "Epoch 30/30\n",
      " - 13s - loss: 0.2891 - acc: 0.8775 - val_loss: 0.2409 - val_acc: 0.8970\n"
     ]
    }
   ],
   "source": [
    "from keras.preprocessing.image import ImageDataGenerator\n",
    "\n",
    "train_datagen = ImageDataGenerator(\n",
    "      rescale=1./255,\n",
    "      rotation_range=40,\n",
    "      width_shift_range=0.2,\n",
    "      height_shift_range=0.2,\n",
    "      shear_range=0.2,\n",
    "      zoom_range=0.2,\n",
    "      horizontal_flip=True,\n",
    "      fill_mode='nearest')\n",
    "\n",
    "# Note that the validation data should not be augmented!\n",
    "test_datagen = ImageDataGenerator(rescale=1./255)\n",
    "\n",
    "train_generator = train_datagen.flow_from_directory(\n",
    "        # This is the target directory\n",
    "        train_dir,\n",
    "        # All images will be resized to 150x150\n",
    "        target_size=(150, 150),\n",
    "        batch_size=20,\n",
    "        # Since we use binary_crossentropy loss, we need binary labels\n",
    "        class_mode='binary')\n",
    "\n",
    "validation_generator = test_datagen.flow_from_directory(\n",
    "        validation_dir,\n",
    "        target_size=(150, 150),\n",
    "        batch_size=20,\n",
    "        class_mode='binary')\n",
    "\n",
    "model.compile(loss='binary_crossentropy',\n",
    "              optimizer=optimizers.RMSprop(lr=2e-5),\n",
    "              metrics=['acc'])\n",
    "\n",
    "history = model.fit_generator(\n",
    "      train_generator,\n",
    "      steps_per_epoch=100,\n",
    "      epochs=30,\n",
    "      validation_data=validation_generator,\n",
    "      validation_steps=50,\n",
    "      verbose=2)"
   ]
  },
  {
   "cell_type": "code",
   "execution_count": 15,
   "metadata": {},
   "outputs": [],
   "source": [
    "model.save('cats_and_dogs_small_3.h5')\n"
   ]
  },
  {
   "cell_type": "code",
   "execution_count": 16,
   "metadata": {},
   "outputs": [
    {
     "data": {
      "image/png": "[encoded data removed]",
      "text/plain": [
       "<Figure size 432x288 with 1 Axes>"
      ]
     },
     "metadata": {
      "needs_background": "light"
     },
     "output_type": "display_data"
    },
    {
     "data": {
      "image/png": "[encoded data removed]",
      "text/plain": [
       "<Figure size 432x288 with 1 Axes>"
      ]
     },
     "metadata": {
      "needs_background": "light"
     },
     "output_type": "display_data"
    }
   ],
   "source": [
    "acc = history.history['acc']\n",
    "val_acc = history.history['val_acc']\n",
    "loss = history.history['loss']\n",
    "val_loss = history.history['val_loss']\n",
    "\n",
    "epochs = range(len(acc))\n",
    "\n",
    "plt.plot(epochs, acc, 'bo', label='Training acc')\n",
    "plt.plot(epochs, val_acc, 'b', label='Validation acc')\n",
    "plt.title('Training and validation accuracy')\n",
    "plt.legend()\n",
    "\n",
    "plt.figure()\n",
    "\n",
    "plt.plot(epochs, loss, 'bo', label='Training loss')\n",
    "plt.plot(epochs, val_loss, 'b', label='Validation loss')\n",
    "plt.title('Training and validation loss')\n",
    "plt.legend()\n",
    "\n",
    "plt.show()"
   ]
  },
  {
   "cell_type": "code",
   "execution_count": null,
   "metadata": {},
   "outputs": [],
   "source": []
  }
 ],
 "metadata": {
  "kernelspec": {
   "display_name": "Python 3",
   "language": "python",
   "name": "python3"
  },
  "language_info": {
   "codemirror_mode": {
    "name": "ipython",
    "version": 3
   },
   "file_extension": ".py",
   "mimetype": "text/x-python",
   "name": "python",
   "nbconvert_exporter": "python",
   "pygments_lexer": "ipython3",
   "version": "3.5.2"
  }
 },
 "nbformat": 4,
 "nbformat_minor": 2
}
